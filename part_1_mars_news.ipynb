{
 "cells": [
  {
   "attachments": {},
   "cell_type": "markdown",
   "metadata": {},
   "source": [
    "# Module 11 Challenge\n",
    "## Deliverable 1: Scrape Titles and Preview Text from Mars News"
   ]
  },
  {
   "cell_type": "code",
   "execution_count": 53,
   "metadata": {},
   "outputs": [],
   "source": [
    "# Import Splinter and BeautifulSoup\n",
    "# Scraping\n",
    "from splinter import Browser\n",
    "from selenium.webdriver.chrome.service import Service\n",
    "from webdriver_manager.chrome import ChromeDriverManager\n",
    "\n",
    "# requests\n",
    "import requests\n",
    "import time\n",
    "\n",
    "# parsing\n",
    "from bs4 import BeautifulSoup\n",
    "\n",
    "# data science\n",
    "import pandas as pd\n",
    "import numpy as np\n",
    "import matplotlib.pyplot as plt\n"
   ]
  },
  {
   "cell_type": "code",
   "execution_count": 41,
   "metadata": {
    "scrolled": true
   },
   "outputs": [],
   "source": [
    "browser = Browser('chrome')"
   ]
  },
  {
   "attachments": {},
   "cell_type": "markdown",
   "metadata": {},
   "source": [
    "### Step 1: Visit the Website\n",
    "\n",
    "1. Use automated browsing to visit the [Mars news site](https://static.bc-edx.com/data/web/mars_news/index.html). Inspect the page to identify which elements to scrape.\n",
    "\n",
    "      > **Hint** To identify which elements to scrape, you might want to inspect the page by using Chrome DevTools."
   ]
  },
  {
   "cell_type": "code",
   "execution_count": 42,
   "metadata": {},
   "outputs": [],
   "source": [
    "# Visit the Mars news site\n",
    "url = 'https://static.bc-edx.com/data/web/mars_news/index.html'\n",
    "browser.visit(url)"
   ]
  },
  {
   "attachments": {},
   "cell_type": "markdown",
   "metadata": {},
   "source": [
    "### Step 2: Scrape the Website\n",
    "\n",
    "Create a Beautiful Soup object and use it to extract text elements from the website."
   ]
  },
  {
   "cell_type": "code",
   "execution_count": 43,
   "metadata": {},
   "outputs": [],
   "source": [
    "# Create a Beautiful Soup object\n",
    "html = browser.html\n",
    "soup = BeautifulSoup(html, 'html.parser')"
   ]
  },
  {
   "cell_type": "code",
   "execution_count": 44,
   "metadata": {},
   "outputs": [],
   "source": [
    "#extract data for dataframe\n",
    "#title, except, date, image"
   ]
  },
  {
   "cell_type": "code",
   "execution_count": 45,
   "metadata": {},
   "outputs": [
    {
     "name": "stdout",
     "output_type": "stream",
     "text": [
      "15\n"
     ]
    }
   ],
   "source": [
    "# Extract all the text elements\n",
    "parent_container = soup.find(\"div\", {\"id\": \"news\"})\n",
    "articles = parent_container.find_all(\"div\", {\"class\": \"row\"})\n",
    "print(len(articles))\n"
   ]
  },
  {
   "attachments": {},
   "cell_type": "markdown",
   "metadata": {},
   "source": [
    "### Step 3: Store the Results\n",
    "\n",
    "Extract the titles and preview text of the news articles that you scraped. Store the scraping results in Python data structures as follows:\n",
    "\n",
    "* Store each title-and-preview pair in a Python dictionary. And, give each dictionary two keys: `title` and `preview`. An example is the following:\n",
    "\n",
    "  ```python\n",
    "  {'title': \"NASA's MAVEN Observes Martian Light Show Caused by Major Solar Storm\", \n",
    "   'preview': \"For the first time in its eight years orbiting Mars, NASA’s MAVEN mission witnessed two different types of ultraviolet aurorae simultaneously, the result of solar storms that began on Aug. 27.\"\n",
    "  }\n",
    "  ```\n",
    "\n",
    "* Store all the dictionaries in a Python list.\n",
    "\n",
    "* Print the list in your notebook."
   ]
  },
  {
   "cell_type": "code",
   "execution_count": 46,
   "metadata": {},
   "outputs": [
    {
     "data": {
      "text/plain": [
       "<div class=\"row\">\n",
       "<div class=\"col-md-4\">\n",
       "<div class=\"list_image\">\n",
       "<img src=\"images/9299_maven-vertical-limb-320x240.jpeg\"/>\n",
       "</div>\n",
       "</div>\n",
       "<div class=\"col-md-8\">\n",
       "<div class=\"list_text\">\n",
       "<div class=\"list_date\">November 9, 2022</div>\n",
       "<div class=\"content_title\">NASA's MAVEN Observes Martian Light Show Caused by Major Solar Storm</div>\n",
       "<div class=\"article_teaser_body\">For the first time in its eight years orbiting Mars, NASA’s MAVEN mission witnessed two different types of ultraviolet aurorae simultaneously, the result of solar storms that began on Aug. 27.</div>\n",
       "</div>\n",
       "</div>\n",
       "</div>"
      ]
     },
     "execution_count": 46,
     "metadata": {},
     "output_type": "execute_result"
    }
   ],
   "source": [
    "articles = articles[0]\n",
    "articles"
   ]
  },
  {
   "cell_type": "code",
   "execution_count": 47,
   "metadata": {},
   "outputs": [
    {
     "data": {
      "text/plain": [
       "\"NASA's MAVEN Observes Martian Light Show Caused by Major Solar Storm\""
      ]
     },
     "execution_count": 47,
     "metadata": {},
     "output_type": "execute_result"
    }
   ],
   "source": [
    "title = articles.find(\"div\", {\"class\": \"content_title\"}).text\n",
    "title"
   ]
  },
  {
   "cell_type": "code",
   "execution_count": 48,
   "metadata": {},
   "outputs": [
    {
     "data": {
      "text/plain": [
       "'For the first time in its eight years orbiting Mars, NASA’s MAVEN mission witnessed two different types of ultraviolet aurorae simultaneously, the result of solar storms that began on Aug. 27.'"
      ]
     },
     "execution_count": 48,
     "metadata": {},
     "output_type": "execute_result"
    }
   ],
   "source": [
    "excerpt = articles.find(\"div\", {\"class\": \"article_teaser_body\"}).text\n",
    "excerpt"
   ]
  },
  {
   "cell_type": "code",
   "execution_count": 49,
   "metadata": {},
   "outputs": [
    {
     "data": {
      "text/plain": [
       "'November 9, 2022'"
      ]
     },
     "execution_count": 49,
     "metadata": {},
     "output_type": "execute_result"
    }
   ],
   "source": [
    "date = articles.find(\"div\", {\"class\": \"list_date\"}).text\n",
    "date"
   ]
  },
  {
   "cell_type": "code",
   "execution_count": 50,
   "metadata": {},
   "outputs": [
    {
     "data": {
      "text/plain": [
       "'https://static.bc-edx.com/data/web/mars_news/images/9299_maven-vertical-limb-320x240.jpeg'"
      ]
     },
     "execution_count": 50,
     "metadata": {},
     "output_type": "execute_result"
    }
   ],
   "source": [
    "image = \"https://static.bc-edx.com/data/web/mars_news/\" + articles.find(\"div\", {\"class\": \"list_image\"}).find(\"img\")[\"src\"]\n",
    "image"
   ]
  },
  {
   "cell_type": "code",
   "execution_count": 30,
   "metadata": {},
   "outputs": [],
   "source": [
    "# Create an empty list to store the dictionaries\n",
    "rows = []"
   ]
  },
  {
   "cell_type": "code",
   "execution_count": 60,
   "metadata": {},
   "outputs": [
    {
     "data": {
      "text/html": [
       "<div>\n",
       "<style scoped>\n",
       "    .dataframe tbody tr th:only-of-type {\n",
       "        vertical-align: middle;\n",
       "    }\n",
       "\n",
       "    .dataframe tbody tr th {\n",
       "        vertical-align: top;\n",
       "    }\n",
       "\n",
       "    .dataframe thead th {\n",
       "        text-align: right;\n",
       "    }\n",
       "</style>\n",
       "<table border=\"1\" class=\"dataframe\">\n",
       "  <thead>\n",
       "    <tr style=\"text-align: right;\">\n",
       "      <th></th>\n",
       "      <th>title</th>\n",
       "      <th>excerpt</th>\n",
       "      <th>date</th>\n",
       "      <th>image</th>\n",
       "    </tr>\n",
       "  </thead>\n",
       "  <tbody>\n",
       "    <tr>\n",
       "      <th>0</th>\n",
       "      <td>NASA's MAVEN Observes Martian Light Show Cause...</td>\n",
       "      <td>For the first time in its eight years orbiting...</td>\n",
       "      <td>2022-11-09</td>\n",
       "      <td>https://static.bc-edx.com/data/web/mars_news/i...</td>\n",
       "    </tr>\n",
       "    <tr>\n",
       "      <th>1</th>\n",
       "      <td>NASA's MAVEN Observes Martian Light Show Cause...</td>\n",
       "      <td>For the first time in its eight years orbiting...</td>\n",
       "      <td>2022-11-09</td>\n",
       "      <td>https://static.bc-edx.com/data/web/mars_news/i...</td>\n",
       "    </tr>\n",
       "    <tr>\n",
       "      <th>2</th>\n",
       "      <td>NASA's MAVEN Observes Martian Light Show Cause...</td>\n",
       "      <td>For the first time in its eight years orbiting...</td>\n",
       "      <td>2022-11-09</td>\n",
       "      <td>https://static.bc-edx.com/data/web/mars_news/i...</td>\n",
       "    </tr>\n",
       "    <tr>\n",
       "      <th>3</th>\n",
       "      <td>NASA's MAVEN Observes Martian Light Show Cause...</td>\n",
       "      <td>For the first time in its eight years orbiting...</td>\n",
       "      <td>2022-11-09</td>\n",
       "      <td>https://static.bc-edx.com/data/web/mars_news/i...</td>\n",
       "    </tr>\n",
       "    <tr>\n",
       "      <th>4</th>\n",
       "      <td>NASA's MAVEN Observes Martian Light Show Cause...</td>\n",
       "      <td>For the first time in its eight years orbiting...</td>\n",
       "      <td>2022-11-09</td>\n",
       "      <td>https://static.bc-edx.com/data/web/mars_news/i...</td>\n",
       "    </tr>\n",
       "    <tr>\n",
       "      <th>5</th>\n",
       "      <td>NASA's MAVEN Observes Martian Light Show Cause...</td>\n",
       "      <td>For the first time in its eight years orbiting...</td>\n",
       "      <td>2022-11-09</td>\n",
       "      <td>https://static.bc-edx.com/data/web/mars_news/i...</td>\n",
       "    </tr>\n",
       "    <tr>\n",
       "      <th>6</th>\n",
       "      <td>NASA's MAVEN Observes Martian Light Show Cause...</td>\n",
       "      <td>For the first time in its eight years orbiting...</td>\n",
       "      <td>2022-11-09</td>\n",
       "      <td>https://static.bc-edx.com/data/web/mars_news/i...</td>\n",
       "    </tr>\n",
       "    <tr>\n",
       "      <th>7</th>\n",
       "      <td>NASA's MAVEN Observes Martian Light Show Cause...</td>\n",
       "      <td>For the first time in its eight years orbiting...</td>\n",
       "      <td>2022-11-09</td>\n",
       "      <td>https://static.bc-edx.com/data/web/mars_news/i...</td>\n",
       "    </tr>\n",
       "    <tr>\n",
       "      <th>8</th>\n",
       "      <td>NASA's MAVEN Observes Martian Light Show Cause...</td>\n",
       "      <td>For the first time in its eight years orbiting...</td>\n",
       "      <td>2022-11-09</td>\n",
       "      <td>https://static.bc-edx.com/data/web/mars_news/i...</td>\n",
       "    </tr>\n",
       "    <tr>\n",
       "      <th>9</th>\n",
       "      <td>NASA's MAVEN Observes Martian Light Show Cause...</td>\n",
       "      <td>For the first time in its eight years orbiting...</td>\n",
       "      <td>2022-11-09</td>\n",
       "      <td>https://static.bc-edx.com/data/web/mars_news/i...</td>\n",
       "    </tr>\n",
       "    <tr>\n",
       "      <th>10</th>\n",
       "      <td>NASA's MAVEN Observes Martian Light Show Cause...</td>\n",
       "      <td>For the first time in its eight years orbiting...</td>\n",
       "      <td>2022-11-09</td>\n",
       "      <td>https://static.bc-edx.com/data/web/mars_news/i...</td>\n",
       "    </tr>\n",
       "    <tr>\n",
       "      <th>11</th>\n",
       "      <td>NASA's MAVEN Observes Martian Light Show Cause...</td>\n",
       "      <td>For the first time in its eight years orbiting...</td>\n",
       "      <td>2022-11-09</td>\n",
       "      <td>https://static.bc-edx.com/data/web/mars_news/i...</td>\n",
       "    </tr>\n",
       "    <tr>\n",
       "      <th>12</th>\n",
       "      <td>NASA's MAVEN Observes Martian Light Show Cause...</td>\n",
       "      <td>For the first time in its eight years orbiting...</td>\n",
       "      <td>2022-11-09</td>\n",
       "      <td>https://static.bc-edx.com/data/web/mars_news/i...</td>\n",
       "    </tr>\n",
       "    <tr>\n",
       "      <th>13</th>\n",
       "      <td>NASA's MAVEN Observes Martian Light Show Cause...</td>\n",
       "      <td>For the first time in its eight years orbiting...</td>\n",
       "      <td>2022-11-09</td>\n",
       "      <td>https://static.bc-edx.com/data/web/mars_news/i...</td>\n",
       "    </tr>\n",
       "    <tr>\n",
       "      <th>14</th>\n",
       "      <td>NASA's MAVEN Observes Martian Light Show Cause...</td>\n",
       "      <td>For the first time in its eight years orbiting...</td>\n",
       "      <td>2022-11-09</td>\n",
       "      <td>https://static.bc-edx.com/data/web/mars_news/i...</td>\n",
       "    </tr>\n",
       "    <tr>\n",
       "      <th>15</th>\n",
       "      <td>NASA's MAVEN Observes Martian Light Show Cause...</td>\n",
       "      <td>For the first time in its eight years orbiting...</td>\n",
       "      <td>2022-11-09</td>\n",
       "      <td>https://static.bc-edx.com/data/web/mars_news/i...</td>\n",
       "    </tr>\n",
       "    <tr>\n",
       "      <th>16</th>\n",
       "      <td>NASA's MAVEN Observes Martian Light Show Cause...</td>\n",
       "      <td>For the first time in its eight years orbiting...</td>\n",
       "      <td>2022-11-09</td>\n",
       "      <td>https://static.bc-edx.com/data/web/mars_news/i...</td>\n",
       "    </tr>\n",
       "    <tr>\n",
       "      <th>17</th>\n",
       "      <td>NASA's MAVEN Observes Martian Light Show Cause...</td>\n",
       "      <td>For the first time in its eight years orbiting...</td>\n",
       "      <td>2022-11-09</td>\n",
       "      <td>https://static.bc-edx.com/data/web/mars_news/i...</td>\n",
       "    </tr>\n",
       "    <tr>\n",
       "      <th>18</th>\n",
       "      <td>NASA's MAVEN Observes Martian Light Show Cause...</td>\n",
       "      <td>For the first time in its eight years orbiting...</td>\n",
       "      <td>2022-11-09</td>\n",
       "      <td>https://static.bc-edx.com/data/web/mars_news/i...</td>\n",
       "    </tr>\n",
       "    <tr>\n",
       "      <th>19</th>\n",
       "      <td>NASA's MAVEN Observes Martian Light Show Cause...</td>\n",
       "      <td>For the first time in its eight years orbiting...</td>\n",
       "      <td>2022-11-09</td>\n",
       "      <td>https://static.bc-edx.com/data/web/mars_news/i...</td>\n",
       "    </tr>\n",
       "    <tr>\n",
       "      <th>20</th>\n",
       "      <td>NASA's MAVEN Observes Martian Light Show Cause...</td>\n",
       "      <td>For the first time in its eight years orbiting...</td>\n",
       "      <td>2022-11-09</td>\n",
       "      <td>https://static.bc-edx.com/data/web/mars_news/i...</td>\n",
       "    </tr>\n",
       "    <tr>\n",
       "      <th>21</th>\n",
       "      <td>NASA's MAVEN Observes Martian Light Show Cause...</td>\n",
       "      <td>For the first time in its eight years orbiting...</td>\n",
       "      <td>2022-11-09</td>\n",
       "      <td>https://static.bc-edx.com/data/web/mars_news/i...</td>\n",
       "    </tr>\n",
       "    <tr>\n",
       "      <th>22</th>\n",
       "      <td>NASA's MAVEN Observes Martian Light Show Cause...</td>\n",
       "      <td>For the first time in its eight years orbiting...</td>\n",
       "      <td>2022-11-09</td>\n",
       "      <td>https://static.bc-edx.com/data/web/mars_news/i...</td>\n",
       "    </tr>\n",
       "    <tr>\n",
       "      <th>23</th>\n",
       "      <td>NASA's MAVEN Observes Martian Light Show Cause...</td>\n",
       "      <td>For the first time in its eight years orbiting...</td>\n",
       "      <td>2022-11-09</td>\n",
       "      <td>https://static.bc-edx.com/data/web/mars_news/i...</td>\n",
       "    </tr>\n",
       "    <tr>\n",
       "      <th>24</th>\n",
       "      <td>NASA's MAVEN Observes Martian Light Show Cause...</td>\n",
       "      <td>For the first time in its eight years orbiting...</td>\n",
       "      <td>2022-11-09</td>\n",
       "      <td>https://static.bc-edx.com/data/web/mars_news/i...</td>\n",
       "    </tr>\n",
       "    <tr>\n",
       "      <th>25</th>\n",
       "      <td>NASA's MAVEN Observes Martian Light Show Cause...</td>\n",
       "      <td>For the first time in its eight years orbiting...</td>\n",
       "      <td>2022-11-09</td>\n",
       "      <td>https://static.bc-edx.com/data/web/mars_news/i...</td>\n",
       "    </tr>\n",
       "    <tr>\n",
       "      <th>26</th>\n",
       "      <td>NASA's MAVEN Observes Martian Light Show Cause...</td>\n",
       "      <td>For the first time in its eight years orbiting...</td>\n",
       "      <td>2022-11-09</td>\n",
       "      <td>https://static.bc-edx.com/data/web/mars_news/i...</td>\n",
       "    </tr>\n",
       "    <tr>\n",
       "      <th>27</th>\n",
       "      <td>NASA's MAVEN Observes Martian Light Show Cause...</td>\n",
       "      <td>For the first time in its eight years orbiting...</td>\n",
       "      <td>2022-11-09</td>\n",
       "      <td>https://static.bc-edx.com/data/web/mars_news/i...</td>\n",
       "    </tr>\n",
       "  </tbody>\n",
       "</table>\n",
       "</div>"
      ],
      "text/plain": [
       "                                                title  \\\n",
       "0   NASA's MAVEN Observes Martian Light Show Cause...   \n",
       "1   NASA's MAVEN Observes Martian Light Show Cause...   \n",
       "2   NASA's MAVEN Observes Martian Light Show Cause...   \n",
       "3   NASA's MAVEN Observes Martian Light Show Cause...   \n",
       "4   NASA's MAVEN Observes Martian Light Show Cause...   \n",
       "5   NASA's MAVEN Observes Martian Light Show Cause...   \n",
       "6   NASA's MAVEN Observes Martian Light Show Cause...   \n",
       "7   NASA's MAVEN Observes Martian Light Show Cause...   \n",
       "8   NASA's MAVEN Observes Martian Light Show Cause...   \n",
       "9   NASA's MAVEN Observes Martian Light Show Cause...   \n",
       "10  NASA's MAVEN Observes Martian Light Show Cause...   \n",
       "11  NASA's MAVEN Observes Martian Light Show Cause...   \n",
       "12  NASA's MAVEN Observes Martian Light Show Cause...   \n",
       "13  NASA's MAVEN Observes Martian Light Show Cause...   \n",
       "14  NASA's MAVEN Observes Martian Light Show Cause...   \n",
       "15  NASA's MAVEN Observes Martian Light Show Cause...   \n",
       "16  NASA's MAVEN Observes Martian Light Show Cause...   \n",
       "17  NASA's MAVEN Observes Martian Light Show Cause...   \n",
       "18  NASA's MAVEN Observes Martian Light Show Cause...   \n",
       "19  NASA's MAVEN Observes Martian Light Show Cause...   \n",
       "20  NASA's MAVEN Observes Martian Light Show Cause...   \n",
       "21  NASA's MAVEN Observes Martian Light Show Cause...   \n",
       "22  NASA's MAVEN Observes Martian Light Show Cause...   \n",
       "23  NASA's MAVEN Observes Martian Light Show Cause...   \n",
       "24  NASA's MAVEN Observes Martian Light Show Cause...   \n",
       "25  NASA's MAVEN Observes Martian Light Show Cause...   \n",
       "26  NASA's MAVEN Observes Martian Light Show Cause...   \n",
       "27  NASA's MAVEN Observes Martian Light Show Cause...   \n",
       "\n",
       "                                              excerpt       date  \\\n",
       "0   For the first time in its eight years orbiting... 2022-11-09   \n",
       "1   For the first time in its eight years orbiting... 2022-11-09   \n",
       "2   For the first time in its eight years orbiting... 2022-11-09   \n",
       "3   For the first time in its eight years orbiting... 2022-11-09   \n",
       "4   For the first time in its eight years orbiting... 2022-11-09   \n",
       "5   For the first time in its eight years orbiting... 2022-11-09   \n",
       "6   For the first time in its eight years orbiting... 2022-11-09   \n",
       "7   For the first time in its eight years orbiting... 2022-11-09   \n",
       "8   For the first time in its eight years orbiting... 2022-11-09   \n",
       "9   For the first time in its eight years orbiting... 2022-11-09   \n",
       "10  For the first time in its eight years orbiting... 2022-11-09   \n",
       "11  For the first time in its eight years orbiting... 2022-11-09   \n",
       "12  For the first time in its eight years orbiting... 2022-11-09   \n",
       "13  For the first time in its eight years orbiting... 2022-11-09   \n",
       "14  For the first time in its eight years orbiting... 2022-11-09   \n",
       "15  For the first time in its eight years orbiting... 2022-11-09   \n",
       "16  For the first time in its eight years orbiting... 2022-11-09   \n",
       "17  For the first time in its eight years orbiting... 2022-11-09   \n",
       "18  For the first time in its eight years orbiting... 2022-11-09   \n",
       "19  For the first time in its eight years orbiting... 2022-11-09   \n",
       "20  For the first time in its eight years orbiting... 2022-11-09   \n",
       "21  For the first time in its eight years orbiting... 2022-11-09   \n",
       "22  For the first time in its eight years orbiting... 2022-11-09   \n",
       "23  For the first time in its eight years orbiting... 2022-11-09   \n",
       "24  For the first time in its eight years orbiting... 2022-11-09   \n",
       "25  For the first time in its eight years orbiting... 2022-11-09   \n",
       "26  For the first time in its eight years orbiting... 2022-11-09   \n",
       "27  For the first time in its eight years orbiting... 2022-11-09   \n",
       "\n",
       "                                                image  \n",
       "0   https://static.bc-edx.com/data/web/mars_news/i...  \n",
       "1   https://static.bc-edx.com/data/web/mars_news/i...  \n",
       "2   https://static.bc-edx.com/data/web/mars_news/i...  \n",
       "3   https://static.bc-edx.com/data/web/mars_news/i...  \n",
       "4   https://static.bc-edx.com/data/web/mars_news/i...  \n",
       "5   https://static.bc-edx.com/data/web/mars_news/i...  \n",
       "6   https://static.bc-edx.com/data/web/mars_news/i...  \n",
       "7   https://static.bc-edx.com/data/web/mars_news/i...  \n",
       "8   https://static.bc-edx.com/data/web/mars_news/i...  \n",
       "9   https://static.bc-edx.com/data/web/mars_news/i...  \n",
       "10  https://static.bc-edx.com/data/web/mars_news/i...  \n",
       "11  https://static.bc-edx.com/data/web/mars_news/i...  \n",
       "12  https://static.bc-edx.com/data/web/mars_news/i...  \n",
       "13  https://static.bc-edx.com/data/web/mars_news/i...  \n",
       "14  https://static.bc-edx.com/data/web/mars_news/i...  \n",
       "15  https://static.bc-edx.com/data/web/mars_news/i...  \n",
       "16  https://static.bc-edx.com/data/web/mars_news/i...  \n",
       "17  https://static.bc-edx.com/data/web/mars_news/i...  \n",
       "18  https://static.bc-edx.com/data/web/mars_news/i...  \n",
       "19  https://static.bc-edx.com/data/web/mars_news/i...  \n",
       "20  https://static.bc-edx.com/data/web/mars_news/i...  \n",
       "21  https://static.bc-edx.com/data/web/mars_news/i...  \n",
       "22  https://static.bc-edx.com/data/web/mars_news/i...  \n",
       "23  https://static.bc-edx.com/data/web/mars_news/i...  \n",
       "24  https://static.bc-edx.com/data/web/mars_news/i...  \n",
       "25  https://static.bc-edx.com/data/web/mars_news/i...  \n",
       "26  https://static.bc-edx.com/data/web/mars_news/i...  \n",
       "27  https://static.bc-edx.com/data/web/mars_news/i...  "
      ]
     },
     "execution_count": 60,
     "metadata": {},
     "output_type": "execute_result"
    }
   ],
   "source": [
    "# Loop through the text elements\n",
    "# Extract the title and preview text from the elements\n",
    "# Store each title and preview pair in a dictionary\n",
    "# Add the dictionary to the list\n",
    "\n",
    "for article in articles:\n",
    "    stats = articles.find(\"div\", {\"class\": \"content_title\"}).text\n",
    "    excerpt = articles.find(\"div\", {\"class\": \"article_teaser_body\"}).text\n",
    "    date = articles.find(\"div\", {\"class\": \"list_date\"}).text\n",
    "    image = \"https://static.bc-edx.com/data/web/mars_news/\" + articles.find(\"div\", {\"class\": \"list_image\"}).find(\"img\")[\"src\"]\n",
    " \n",
    "#Make row\n",
    "    row = {\n",
    "    \"title\": title, \n",
    "    \"excerpt\": excerpt,\n",
    "    \"date\": date,\n",
    "    \"image\": image,\n",
    "}\n",
    "\n",
    "rows.append(row)  # Append each dictionary to the list\n",
    "\n",
    "df = pd.DataFrame(rows)  # Convert list of dicts to DataFrame\n",
    "df[\"date\"] = pd.to_datetime(df[\"date\"])\n",
    "df\n",
    "    \n",
    "\n",
    "\n"
   ]
  },
  {
   "cell_type": "code",
   "execution_count": 61,
   "metadata": {},
   "outputs": [
    {
     "name": "stdout",
     "output_type": "stream",
     "text": [
      "<class 'pandas.core.frame.DataFrame'>\n",
      "RangeIndex: 28 entries, 0 to 27\n",
      "Data columns (total 4 columns):\n",
      " #   Column   Non-Null Count  Dtype         \n",
      "---  ------   --------------  -----         \n",
      " 0   title    28 non-null     object        \n",
      " 1   excerpt  28 non-null     object        \n",
      " 2   date     28 non-null     datetime64[ns]\n",
      " 3   image    28 non-null     object        \n",
      "dtypes: datetime64[ns](1), object(3)\n",
      "memory usage: 1.0+ KB\n"
     ]
    }
   ],
   "source": [
    "# Print the list to confirm success\n",
    "df.info()"
   ]
  },
  {
   "cell_type": "code",
   "execution_count": 62,
   "metadata": {},
   "outputs": [],
   "source": [
    "browser.quit()"
   ]
  },
  {
   "cell_type": "code",
   "execution_count": null,
   "metadata": {},
   "outputs": [],
   "source": []
  }
 ],
 "metadata": {
  "kernelspec": {
   "display_name": "Python 3 (ipykernel)",
   "language": "python",
   "name": "python3"
  },
  "language_info": {
   "codemirror_mode": {
    "name": "ipython",
    "version": 3
   },
   "file_extension": ".py",
   "mimetype": "text/x-python",
   "name": "python",
   "nbconvert_exporter": "python",
   "pygments_lexer": "ipython3",
   "version": "3.10.15"
  },
  "vscode": {
   "interpreter": {
    "hash": "31f2aee4e71d21fbe5cf8b01ff0e069b9275f58929596ceb00d14d90e3e16cd6"
   }
  }
 },
 "nbformat": 4,
 "nbformat_minor": 4
}
